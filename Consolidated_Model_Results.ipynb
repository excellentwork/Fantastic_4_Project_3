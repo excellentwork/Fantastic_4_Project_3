{
 "cells": [
  {
   "cell_type": "markdown",
   "id": "2dc0b378",
   "metadata": {},
   "source": [
    "# Consolidated Model Results"
   ]
  },
  {
   "cell_type": "markdown",
   "id": "5fb1066c",
   "metadata": {},
   "source": [
    "## Model 1 Summary"
   ]
  },
  {
   "cell_type": "code",
   "execution_count": null,
   "id": "913368e4",
   "metadata": {},
   "outputs": [],
   "source": [
    "# Define a CNN model\n",
    "model_1 = keras.Sequential([\n",
    "    layers.Conv2D(32, (3, 3), activation='relu', input_shape=(256, 256, 3)),\n",
    "    layers.MaxPooling2D((2, 2)),\n",
    "    layers.Flatten(),\n",
    "    layers.Dense(64, activation='relu'),\n",
    "    layers.Dense(1, activation='sigmoid')\n",
    "])\n",
    "\n",
    "# Compile the model\n",
    "model_1.compile(optimizer='adam', loss='binary_crossentropy', metrics=['accuracy'])\n",
    "\n",
    "\n",
    "# Train the model\n",
    "batch_size = 32\n",
    "epochs = 10\n",
    "history_1 = model_1.fit(\n",
    "    X_train, y_train,\n",
    "    validation_data=(X_test, y_test),\n",
    "    epochs=epochs\n",
    ")"
   ]
  },
  {
   "cell_type": "markdown",
   "id": "e685a768",
   "metadata": {},
   "source": [
    "```\n",
    "Epoch 1/10\n",
    "50/50 [==============================] - 7s 59ms/step - loss: 1.4363 - accuracy: 0.5519 - val_loss: 0.6953 - val_accuracy: 0.6150\n",
    "Epoch 2/10\n",
    "50/50 [==============================] - 2s 37ms/step - loss: 0.5605 - accuracy: 0.7525 - val_loss: 0.6764 - val_accuracy: 0.6300\n",
    "Epoch 3/10\n",
    "50/50 [==============================] - 2s 37ms/step - loss: 0.3178 - accuracy: 0.8769 - val_loss: 0.7007 - val_accuracy: 0.6600\n",
    "Epoch 4/10\n",
    "50/50 [==============================] - 2s 38ms/step - loss: 0.1170 - accuracy: 0.9719 - val_loss: 0.7591 - val_accuracy: 0.6775\n",
    "Epoch 5/10\n",
    "50/50 [==============================] - 2s 37ms/step - loss: 0.0322 - accuracy: 0.9981 - val_loss: 0.8601 - val_accuracy: 0.6825\n",
    "Epoch 6/10\n",
    "50/50 [==============================] - 2s 37ms/step - loss: 0.0134 - accuracy: 0.9987 - val_loss: 0.9000 - val_accuracy: 0.6750\n",
    "Epoch 7/10\n",
    "50/50 [==============================] - 2s 37ms/step - loss: 0.0066 - accuracy: 1.0000 - val_loss: 1.0051 - val_accuracy: 0.6600\n",
    "Epoch 8/10\n",
    "50/50 [==============================] - 2s 37ms/step - loss: 0.0027 - accuracy: 1.0000 - val_loss: 1.0427 - val_accuracy: 0.6575\n",
    "Epoch 9/10\n",
    "50/50 [==============================] - 2s 37ms/step - loss: 0.0018 - accuracy: 1.0000 - val_loss: 1.0809 - val_accuracy: 0.6650\n",
    "Epoch 10/10\n",
    "50/50 [==============================] - 2s 37ms/step - loss: 0.0012 - accuracy: 1.0000 - val_loss: 1.1217 - val_accuracy: 0.6725\n",
    "\n",
    "```"
   ]
  },
  {
   "cell_type": "code",
   "execution_count": null,
   "id": "d675e3ba",
   "metadata": {},
   "outputs": [],
   "source": [
    "# Accuracy and Loss Plots\n",
    "plot_training_history(history_1)"
   ]
  },
  {
   "cell_type": "markdown",
   "id": "c5ffe190",
   "metadata": {},
   "source": [
    "```\n",
    "<Figure size 1200x600 with 2 Axes>\n",
    "```"
   ]
  },
  {
   "cell_type": "markdown",
   "id": "c32f2db3",
   "metadata": {},
   "source": [
    "## Model 2 Summary"
   ]
  },
  {
   "cell_type": "code",
   "execution_count": null,
   "id": "d21f83e4",
   "metadata": {},
   "outputs": [],
   "source": [
    "# Define CNN model_2\n",
    "model_2 = keras.Sequential([\n",
    "    layers.Conv2D(32, (3, 3), activation='relu', input_shape=(256, 256, 3)),\n",
    "    layers.MaxPooling2D((2, 2)),\n",
    "    layers.Flatten(),\n",
    "    layers.Dense(64, activation='relu'),\n",
    "    layers.Dense(1, activation='sigmoid')\n",
    "])\n",
    "\n",
    "# Compile the model\n",
    "model_2.compile(optimizer='adam', loss='binary_crossentropy', metrics=['accuracy'])\n",
    "\n",
    "\n",
    "# Train the model\n",
    "batch_size = 32\n",
    "epochs = 10\n",
    "history_2 = model_2.fit(\n",
    "    X_train_aug, y_train_aug,\n",
    "    validation_data=(X_test, y_test),\n",
    "    epochs=epochs\n",
    ")"
   ]
  },
  {
   "cell_type": "markdown",
   "id": "4c9467a3",
   "metadata": {},
   "source": [
    "```\n",
    "Epoch 1/10\n",
    "250/250 [==============================] - 10s 36ms/step - loss: 0.8354 - accuracy: 0.5981 - val_loss: 0.6714 - val_accuracy: 0.6300\n",
    "Epoch 2/10\n",
    "250/250 [==============================] - 8s 33ms/step - loss: 0.5346 - accuracy: 0.7396 - val_loss: 0.7817 - val_accuracy: 0.6025\n",
    "Epoch 3/10\n",
    "250/250 [==============================] - 8s 33ms/step - loss: 0.2953 - accuracy: 0.8845 - val_loss: 0.9801 - val_accuracy: 0.6675\n",
    "Epoch 4/10\n",
    "250/250 [==============================] - 8s 33ms/step - loss: 0.1298 - accuracy: 0.9592 - val_loss: 1.3103 - val_accuracy: 0.6150\n",
    "Epoch 5/10\n",
    "250/250 [==============================] - 8s 34ms/step - loss: 0.0530 - accuracy: 0.9859 - val_loss: 1.5907 - val_accuracy: 0.6525\n",
    "Epoch 6/10\n",
    "250/250 [==============================] - 8s 33ms/step - loss: 0.0286 - accuracy: 0.9942 - val_loss: 1.9197 - val_accuracy: 0.6525\n",
    "Epoch 7/10\n",
    "250/250 [==============================] - 8s 34ms/step - loss: 0.0073 - accuracy: 0.9996 - val_loss: 2.1291 - val_accuracy: 0.6450\n",
    "Epoch 8/10\n",
    "250/250 [==============================] - 8s 34ms/step - loss: 0.0022 - accuracy: 1.0000 - val_loss: 2.3111 - val_accuracy: 0.6525\n",
    "Epoch 9/10\n",
    "250/250 [==============================] - 8s 33ms/step - loss: 9.9790e-04 - accuracy: 1.0000 - val_loss: 2.4621 - val_accuracy: 0.6550\n",
    "Epoch 10/10\n",
    "250/250 [==============================] - 8s 34ms/step - loss: 6.3167e-04 - accuracy: 1.0000 - val_loss: 2.5628 - val_accuracy: 0.6600\n",
    "\n",
    "```"
   ]
  },
  {
   "cell_type": "code",
   "execution_count": null,
   "id": "0a332ce7",
   "metadata": {},
   "outputs": [],
   "source": [
    "# Accuracy and Loss Plots\n",
    "plot_training_history(history_2)"
   ]
  },
  {
   "cell_type": "markdown",
   "id": "8bacc9eb",
   "metadata": {},
   "source": [
    "```\n",
    "<Figure size 1200x600 with 2 Axes>\n",
    "```"
   ]
  },
  {
   "cell_type": "markdown",
   "id": "194ca089",
   "metadata": {},
   "source": [
    "## Model 3 Summary"
   ]
  },
  {
   "cell_type": "code",
   "execution_count": null,
   "id": "efbfc6e2",
   "metadata": {},
   "outputs": [],
   "source": [
    "# Accuracy and Loss Plots\n",
    "plot_training_history(history_3)\n"
   ]
  },
  {
   "cell_type": "markdown",
   "id": "c3333bc7",
   "metadata": {},
   "source": [
    "```\n",
    "<Figure size 1200x600 with 2 Axes>\n",
    "```"
   ]
  },
  {
   "cell_type": "markdown",
   "id": "6729cfca",
   "metadata": {},
   "source": [
    "## Model 4 Summary"
   ]
  },
  {
   "cell_type": "markdown",
   "id": "5ce74c53",
   "metadata": {},
   "source": [
    "### **CNN Model - Iteration #4**\n",
    "\n",
    "### Early Stopping & Dropout\n",
    "Early stopping is a method to stop training when the validation metric stops improving, preventing overfitting and saving computational resources."
   ]
  },
  {
   "cell_type": "code",
   "execution_count": null,
   "id": "17731269",
   "metadata": {},
   "outputs": [],
   "source": [
    "# Accuracy and Loss Plots\n",
    "plot_training_history(history_4)"
   ]
  },
  {
   "cell_type": "markdown",
   "id": "4ec2c4a9",
   "metadata": {},
   "source": [
    "```\n",
    "<Figure size 1200x600 with 2 Axes>\n",
    "```"
   ]
  },
  {
   "cell_type": "markdown",
   "id": "9d907d8a",
   "metadata": {},
   "source": [
    "## Model 5 Summary"
   ]
  },
  {
   "cell_type": "code",
   "execution_count": null,
   "id": "e277c249",
   "metadata": {},
   "outputs": [],
   "source": [
    "# Accuracy and Loss Plots\n",
    "plot_training_history(history_5)"
   ]
  },
  {
   "cell_type": "markdown",
   "id": "03351f9a",
   "metadata": {},
   "source": [
    "```\n",
    "<Figure size 1200x600 with 2 Axes>\n",
    "```"
   ]
  }
 ],
 "metadata": {},
 "nbformat": 4,
 "nbformat_minor": 5
}
