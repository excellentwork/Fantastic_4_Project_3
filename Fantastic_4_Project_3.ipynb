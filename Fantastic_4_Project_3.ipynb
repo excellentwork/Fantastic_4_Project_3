{
 "cells": [
  {
   "cell_type": "markdown",
   "metadata": {
    "id": "Q91KqmCRu64D"
   },
   "source": [
    "# **Project 3: Hotdog/Not Hotdog**\n"
   ]
  },
  {
   "cell_type": "code",
   "execution_count": null,
   "metadata": {},
   "outputs": [],
   "source": [
    "from google.colab import drive\n",
    "\n",
    "# Mount the shared Google Drive folder\n",
    "drive.mount('/content/gdrive', force_remount=True)\n",
    "\n",
    "# Get the folder ID from the URL\n",
    "folder_id = '1RdqEY7EuOLFJiNlVzFkAfuFKJ8si82bb'\n",
    "\n",
    "# Construct the path to the shared folder\n",
    "shared_folder_path = '/content/gdrive/My Drive/' + folder_id\n",
    "\n",
    "# Change the current working directory to the shared folder\n",
    "%cd '{shared_folder_path}'"
   ]
  },
  {
   "cell_type": "markdown",
   "metadata": {
    "id": "C8U3DUa3eNsT"
   },
   "source": [
    "## **Import the necessary libraries**"
   ]
  },
  {
   "cell_type": "code",
   "execution_count": 1,
   "metadata": {
    "id": "-dVzeuF3eQx1"
   },
   "outputs": [],
   "source": [
    "from PIL import Image\n",
    "import pandas as pd\n",
    "import requests\n",
    "import numpy as np\n",
    "import os\n",
    "import matplotlib.pyplot as plt\n",
    "import seaborn as sns\n",
    "\n",
    "# TensorFlow modules\n",
    "import tensorflow as tf\n",
    "from tensorflow import keras\n",
    "from tensorflow.keras import layers\n",
    "from tensorflow.keras.preprocessing.image import ImageDataGenerator\n",
    "from tensorflow.keras.optimizers import Adam\n",
    "\n",
    "\n",
    "# scikit-learn modules\n",
    "from sklearn.preprocessing import LabelEncoder\n",
    "from sklearn.model_selection import train_test_split\n",
    "from sklearn.metrics import classification_report\n",
    "from sklearn.metrics import confusion_matrix\n",
    "\n",
    "# Library for randomly selecting data points\n",
    "import random"
   ]
  },
  {
   "cell_type": "markdown",
   "metadata": {
    "id": "8lsux2ZwyTTR"
   },
   "source": [
    "## **Load and Prepare the Dataset**\n",
    "\n",
    "- Load the dataset. \n",
    "- Split the data into the train and the test dataset."
   ]
  },
  {
   "cell_type": "code",
   "execution_count": 2,
   "metadata": {
    "id": "BApX9qgNsqV0",
    "scrolled": true
   },
   "outputs": [],
   "source": [
    "# Function to Load Images and Labels\n",
    "# This function walks through the directory structure, loads the images, converts them into a consistent format,\n",
    "# resizes them as needed and extracts labels from the directory names:\n",
    "\n",
    "def load_images_from_folder(folder, count, img_size=(256, 256)):\n",
    "    images = []\n",
    "    for idx, filename in enumerate(os.listdir(folder)):\n",
    "        if idx >= count:  # Only load up to 'count' images\n",
    "            break\n",
    "        if filename.endswith('.jpg'):  \n",
    "            img_path = os.path.join(folder, filename)\n",
    "            with Image.open(img_path) as img:\n",
    "                img = img.convert('RGB')  # Convert to RGB\n",
    "                img = img.resize(img_size)  # Resize the image\n",
    "                images.append(np.array(img))\n",
    "    return np.array(images)\n"
   ]
  },
  {
   "cell_type": "code",
   "execution_count": 3,
   "metadata": {},
   "outputs": [],
   "source": [
    "# Load Images and Create Labels\n",
    "hotdog_folder = '/Users/jenniferleone/Desktop/AI_Bootcamp/Project 3/Images/HOTDOG'\n",
    "notdog_folder = '/Users/jenniferleone/Desktop/AI_Bootcamp/Project 3/Images/NOTDOG'\n",
    "\n",
    "# Load images\n",
    "hotdog_images = load_images_from_folder(hotdog_folder, 500)\n",
    "notdog_images = load_images_from_folder(notdog_folder, 500)\n",
    "\n",
    "# Create labels (zeros and ones for the hotdog and notdog images)\n",
    "hotdog_labels = np.ones(len(hotdog_images))\n",
    "notdog_labels = np.zeros(len(notdog_images))\n",
    "\n",
    "# Combine images and labels\n",
    "X = np.concatenate((hotdog_images, notdog_images), axis=0)\n",
    "y = np.concatenate((hotdog_labels, notdog_labels), axis=0)\n"
   ]
  },
  {
   "cell_type": "code",
   "execution_count": null,
   "metadata": {},
   "outputs": [],
   "source": [
    "# # Function to Load Images and Labels\n",
    "# # This function walks through the directory structure, loads the images, and extracts labels from the directory names:\n",
    "\n",
    "# def load_images_from_folder(folder, count):\n",
    "#     images = []\n",
    "#     for idx, filename in enumerate(os.listdir(folder)):\n",
    "#         if idx >= count:  # Only load up to 'count' images\n",
    "#             break\n",
    "#         if filename.endswith('.jpg'):  # Assume all images are in JPG format\n",
    "#             img_path = os.path.join(folder, filename)\n",
    "#             with Image.open(img_path) as img:\n",
    "#                 img = img.convert('RGB')  # Convert to RGB\n",
    "#                 images.append(img)  # Add the PIL image object directly\n",
    "#     return images\n"
   ]
  },
  {
   "cell_type": "code",
   "execution_count": null,
   "metadata": {},
   "outputs": [],
   "source": [
    "# Load Images and Create Labels\n",
    "# hotdog_folder = '/Users/jenniferleone/Desktop/AI_Bootcamp/Project 3/Images/HOTDOG'\n",
    "# notdog_folder = '/Users/jenniferleone/Desktop/AI_Bootcamp/Project 3/Images/NOTDOG'\n",
    "\n",
    "# # Load images\n",
    "# hotdog_images = load_images_from_folder(hotdog_folder, 500)\n",
    "# notdog_images = load_images_from_folder(notdog_folder, 500)\n",
    "\n",
    "# # Create labels\n",
    "# hotdog_labels = np.ones(len(hotdog_images))\n",
    "# notdog_labels = np.zeros(len(notdog_images))\n",
    "\n",
    "# # Since images are no longer in a single NumPy array, handle them separately\n",
    "# X = hotdog_images + notdog_images  # Just combine lists\n",
    "# y = np.concatenate((hotdog_labels, notdog_labels))  # Labels can still be a NumPy array\n"
   ]
  },
  {
   "cell_type": "code",
   "execution_count": null,
   "metadata": {},
   "outputs": [],
   "source": [
    "# # Print a random image from the list to ensure the import was successful\n",
    "# hotdog_images[25]\n",
    "# notdog_images[50]"
   ]
  },
  {
   "cell_type": "code",
   "execution_count": 4,
   "metadata": {
    "id": "y3lwKpOefkpA"
   },
   "outputs": [],
   "source": [
    "# Split dataset\n",
    "X_train, X_test, y_train, y_test = train_test_split(X, y, test_size=0.20, random_state=42)"
   ]
  },
  {
   "cell_type": "markdown",
   "metadata": {
    "id": "akTUOfLlgwoM"
   },
   "source": [
    "**Observation:**"
   ]
  },
  {
   "cell_type": "markdown",
   "metadata": {
    "id": "kxODV6HKykuc"
   },
   "source": [
    "## **Visualizing images**\n",
    "\n",
    "- Use X_train to visualize the first 10 images.\n",
    "- Use Y_train to print the first 10 labels."
   ]
  },
  {
   "cell_type": "code",
   "execution_count": null,
   "metadata": {},
   "outputs": [],
   "source": [
    "# Visualize the first 10 images in the dataset and printing their classification labels\n",
    "\n",
    "def plot_images(images, labels, num_images=10):\n",
    "    # Set up the figure size in inches\n",
    "    plt.figure(figsize=(10, 5))\n",
    "    \n",
    "    for i in range(num_images):\n",
    "        # Create a subplot for each image\n",
    "        plt.subplot(2, 5, i + 1)\n",
    "        plt.imshow(images[i], cmap='gray')\n",
    "        plt.title(f'Label: {labels[i]}')\n",
    "        plt.axis('off')  # Turn off axis numbering\n",
    "        \n",
    "    plt.tight_layout()\n",
    "    plt.show()\n",
    "\n",
    "plot_images(X_train, y_train)\n"
   ]
  },
  {
   "cell_type": "markdown",
   "metadata": {
    "id": "kzoyeXHOy80N"
   },
   "source": [
    "## **Data preparation**\n",
    "\n",
    "- Print the shape and the array of pixels for the first image in the training dataset.\n",
    "- Normalize the train and the test dataset by dividing by 255.\n",
    "- Print the new shapes of the train and the test dataset.\n",
    "- Encode the target variable."
   ]
  },
  {
   "cell_type": "code",
   "execution_count": null,
   "metadata": {
    "id": "NqndzQXng9rL"
   },
   "outputs": [],
   "source": [
    "# Get all the sizes into a list, then convert to a set\n",
    "sizes = set([img.size for img in images])\n",
    "sizes"
   ]
  },
  {
   "cell_type": "code",
   "execution_count": null,
   "metadata": {},
   "outputs": [],
   "source": [
    "# Determine the number of sets of different sizes. \n",
    "len(sizes)"
   ]
  },
  {
   "cell_type": "code",
   "execution_count": null,
   "metadata": {},
   "outputs": [],
   "source": [
    "# Resize all images\n",
    "\n",
    "def resize_images(images, new_size=(256, 256)):\n",
    "    resized_images = []\n",
    "    for img in images:\n",
    "        # Resize the image using the LANCZOS filter for high-quality downsampling\n",
    "        img = img.resize(new_size, Image.Resampling.LANCZOS)\n",
    "        img = img.convert('RGB')\n",
    "        resized_images.append(img)\n",
    "    return resized_images\n",
    "\n",
    "# Apply the resize function\n",
    "images_resized = resize_images(images, new_size=(256, 256))"
   ]
  },
  {
   "cell_type": "code",
   "execution_count": null,
   "metadata": {},
   "outputs": [],
   "source": [
    "# Verify the resizing of all images\n",
    "# Get all the sizes into a list, then convert to a set\n",
    "sizes = set([img.size for img in images_resized])\n",
    "sizes"
   ]
  },
  {
   "cell_type": "code",
   "execution_count": null,
   "metadata": {},
   "outputs": [],
   "source": [
    "# Convert all images to floating point numpy arrays\n",
    "float_images = [np.array(img).astype(np.float32) for img in images_resized]\n",
    "\n",
    "# Display the pixel values of the first image\n",
    "print(\"Pixel Values:\")\n",
    "print(float_images[0])"
   ]
  },
  {
   "cell_type": "markdown",
   "metadata": {
    "id": "f4CQkKtQ0XII"
   },
   "source": [
    "### **Normalize the train and the test data**"
   ]
  },
  {
   "cell_type": "code",
   "execution_count": 5,
   "metadata": {
    "id": "q_yUUTp_mUzB"
   },
   "outputs": [],
   "source": [
    "# Normalizing the image pixel inputs\n",
    "X_train = X_train / 255.0\n",
    "X_test = X_test / 255.0"
   ]
  },
  {
   "cell_type": "code",
   "execution_count": null,
   "metadata": {},
   "outputs": [],
   "source": [
    "# Displaying the first normalized training image\n",
    "print('Test Dataset:', X_test.shape, y_test.shape)\n",
    "print('Training Dataset:', X_train.shape, y_train.shape)"
   ]
  },
  {
   "cell_type": "code",
   "execution_count": null,
   "metadata": {},
   "outputs": [],
   "source": [
    "# Displaying the first normalized testing image and its pixel values\n",
    "print(\"Shape of the first normalized testing image:\", X_test[0].shape)\n",
    "print(\"Pixel values of the first normalized testing image:\")\n",
    "print(X_test[0])"
   ]
  },
  {
   "cell_type": "markdown",
   "metadata": {
    "id": "0uLxXBpz81vk"
   },
   "source": [
    "### **Encode Labels**"
   ]
  },
  {
   "cell_type": "code",
   "execution_count": null,
   "metadata": {
    "id": "zL0lYER4sqWw"
   },
   "outputs": [],
   "source": [
    "# Encode the y data\n",
    "# Initialize the LabelEncoder\n",
    "label_encoder = LabelEncoder()\n",
    "\n",
    "# Fit label encoder and return encoded labels\n",
    "encoded_labels = label_encoder.fit_transform()"
   ]
  },
  {
   "cell_type": "markdown",
   "metadata": {
    "id": "ViqPOTquCF76"
   },
   "source": [
    "**Observation:**\n"
   ]
  },
  {
   "cell_type": "markdown",
   "metadata": {},
   "source": [
    "# Augmentation"
   ]
  },
  {
   "cell_type": "markdown",
   "metadata": {},
   "source": [
    "With 500 images of \"hotdog\" and 500 images of \"not hotdog,\" we have a decently sized dataset to start with, especially considering the balance between the classes. The need to augment the dataset to increase its size depends on several factors:\n",
    "\n",
    "1. **Model Complexity**\n",
    "If you are using a complex model or deep neural network, these typically require large amounts of data to generalize well without overfitting. In such cases, even a dataset of 1,000 images might be insufficient, and data augmentation could help by artificially expanding the diversity and size of your training data.\n",
    "\n",
    "2. **Performance Goals**\n",
    "Consider your performance metrics and goals. If initial training results are not satisfactory or if the model performs well on training data but poorly on validation data (a sign of overfitting), then data augmentation might be necessary to improve the model’s ability to generalize.\n",
    "\n",
    "3. **Variability in Data**\n",
    "Data augmentation is particularly useful when you need the model to be robust against variations in inputs that are not well-represented in your dataset. For example, if your \"hotdog\" images are all taken under similar lighting conditions or from similar angles, your model might not perform well when presented with \"hotdog\" images under different conditions. Augmenting data to include transformed images (e.g., different rotations, lighting conditions, and crops) can help the model learn to recognize the key features of \"hotdog\" and \"not hotdog\" under a broader range of conditions.\n",
    "\n",
    "4. **Computational Resources**\n",
    "More data typically requires more computational power and longer training times. If resources are limited, you might start with your existing dataset to see how well you can optimize the model and consider augmentation if improvements are needed and computationally feasible.\n",
    "\n"
   ]
  },
  {
   "cell_type": "code",
   "execution_count": null,
   "metadata": {},
   "outputs": [],
   "source": [
    "# Apply augmentation to the whole training dataset\n",
    "# Create an ImageDataGenerator\n",
    "datagen = ImageDataGenerator(\n",
    "    rotation_range=20,      # Random rotation (degrees)\n",
    "    width_shift_range=0.1,  # Random horizontal shift\n",
    "    height_shift_range=0.1, # Random vertical shift\n",
    "    shear_range=0.2,        # Shear intensity\n",
    "    zoom_range=0.2,         # Random zoom\n",
    "    horizontal_flip=True,   # Random horizontal flip\n",
    "    vertical_flip=False,    # No vertical flip for face images\n",
    "    fill_mode='nearest'     # Fill mode for handling newly created pixels\n",
    ")\n",
    "\n",
    "# Create variables to hold the X and y training data\n",
    "X_train_aug = []\n",
    "y_train_aug = []\n",
    "\n",
    "# Loop through all the images.\n",
    "for i in range(len(X_train)):\n",
    "    # Select the image\n",
    "    img = X_train[i]\n",
    "    # Select the label from the training data\n",
    "    label = y_train[i]\n",
    "    \n",
    "    # Add a channel dimension for grayscale images\n",
    "    img = np.expand_dims(img, axis=-1)  # Add channel dimension\n",
    "\n",
    "    # Ensure that the input data has the correct shape\n",
    "    img = np.expand_dims(img, axis=0)  # Add batch dimension\n",
    "\n",
    "    # Add 5 images for every original image\n",
    "    for j in range(5):\n",
    "        # Append a new image to the X list\n",
    "        X_train_aug.append(datagen.flow(img, batch_size=1).next()[0])\n",
    "        # Append the label for the original image to the y list\n",
    "        y_train_aug.append(label)\n",
    "\n",
    "# Print the length of each list\n",
    "print(len(X_train_aug))\n",
    "print(len(y_train_aug))\n"
   ]
  },
  {
   "cell_type": "code",
   "execution_count": null,
   "metadata": {},
   "outputs": [],
   "source": [
    "# Reshape test data for the model\n",
    "X_test_np = []\n",
    "for img in X_test:\n",
    "    # Add a channel dimension for grayscale images\n",
    "    img = np.expand_dims(img, axis=-1)  # Add channel dimension\n",
    "    # Append the image to the list\n",
    "    X_test_np.append(img)\n",
    "\n",
    "# Convert to numpy array\n",
    "X_test_np = np.array(X_test_np)\n",
    "\n",
    "# Check the shape of the first image\n",
    "X_test_np[0].shape"
   ]
  },
  {
   "cell_type": "markdown",
   "metadata": {
    "id": "yH-gVrzuByNA"
   },
   "source": [
    "## **Model Building**"
   ]
  },
  {
   "cell_type": "markdown",
   "metadata": {},
   "source": [
    "### CNN Model"
   ]
  },
  {
   "cell_type": "code",
   "execution_count": 6,
   "metadata": {
    "id": "BcKRwrGn0XIL"
   },
   "outputs": [],
   "source": [
    "### Fix the seed for random number generators\n",
    "np.random.seed(42)\n",
    "random.seed(42)\n",
    "tf.random.set_seed(42)"
   ]
  },
  {
   "cell_type": "code",
   "execution_count": 7,
   "metadata": {},
   "outputs": [
    {
     "name": "stderr",
     "output_type": "stream",
     "text": [
      "/Users/jenniferleone/anaconda3/lib/python3.11/site-packages/keras/src/layers/convolutional/base_conv.py:99: UserWarning: Do not pass an `input_shape`/`input_dim` argument to a layer. When using Sequential models, prefer using an `Input(shape)` object as the first layer in the model instead.\n",
      "  super().__init__(\n"
     ]
    },
    {
     "name": "stdout",
     "output_type": "stream",
     "text": [
      "Epoch 1/10\n",
      "\u001b[1m25/25\u001b[0m \u001b[32m━━━━━━━━━━━━━━━━━━━━\u001b[0m\u001b[37m\u001b[0m \u001b[1m12s\u001b[0m 454ms/step - accuracy: 0.6211 - loss: 0.8435 - val_accuracy: 0.8500 - val_loss: 0.3332\n",
      "Epoch 2/10\n",
      "\u001b[1m25/25\u001b[0m \u001b[32m━━━━━━━━━━━━━━━━━━━━\u001b[0m\u001b[37m\u001b[0m \u001b[1m11s\u001b[0m 445ms/step - accuracy: 0.8081 - loss: 0.4356 - val_accuracy: 0.8650 - val_loss: 0.3109\n",
      "Epoch 3/10\n",
      "\u001b[1m25/25\u001b[0m \u001b[32m━━━━━━━━━━━━━━━━━━━━\u001b[0m\u001b[37m\u001b[0m \u001b[1m11s\u001b[0m 442ms/step - accuracy: 0.8729 - loss: 0.3327 - val_accuracy: 0.8800 - val_loss: 0.2961\n",
      "Epoch 4/10\n",
      "\u001b[1m25/25\u001b[0m \u001b[32m━━━━━━━━━━━━━━━━━━━━\u001b[0m\u001b[37m\u001b[0m \u001b[1m11s\u001b[0m 445ms/step - accuracy: 0.9116 - loss: 0.2306 - val_accuracy: 0.8550 - val_loss: 0.3079\n",
      "Epoch 5/10\n",
      "\u001b[1m25/25\u001b[0m \u001b[32m━━━━━━━━━━━━━━━━━━━━\u001b[0m\u001b[37m\u001b[0m \u001b[1m11s\u001b[0m 447ms/step - accuracy: 0.9576 - loss: 0.1452 - val_accuracy: 0.8600 - val_loss: 0.3313\n",
      "Epoch 6/10\n",
      "\u001b[1m25/25\u001b[0m \u001b[32m━━━━━━━━━━━━━━━━━━━━\u001b[0m\u001b[37m\u001b[0m \u001b[1m11s\u001b[0m 446ms/step - accuracy: 0.9718 - loss: 0.0977 - val_accuracy: 0.8550 - val_loss: 0.3343\n",
      "Epoch 7/10\n",
      "\u001b[1m25/25\u001b[0m \u001b[32m━━━━━━━━━━━━━━━━━━━━\u001b[0m\u001b[37m\u001b[0m \u001b[1m11s\u001b[0m 447ms/step - accuracy: 0.9488 - loss: 0.1547 - val_accuracy: 0.7400 - val_loss: 0.6590\n",
      "Epoch 8/10\n",
      "\u001b[1m25/25\u001b[0m \u001b[32m━━━━━━━━━━━━━━━━━━━━\u001b[0m\u001b[37m\u001b[0m \u001b[1m11s\u001b[0m 452ms/step - accuracy: 0.9620 - loss: 0.1290 - val_accuracy: 0.8850 - val_loss: 0.3938\n",
      "Epoch 9/10\n",
      "\u001b[1m25/25\u001b[0m \u001b[32m━━━━━━━━━━━━━━━━━━━━\u001b[0m\u001b[37m\u001b[0m \u001b[1m11s\u001b[0m 448ms/step - accuracy: 0.9863 - loss: 0.0379 - val_accuracy: 0.8450 - val_loss: 0.5386\n",
      "Epoch 10/10\n",
      "\u001b[1m25/25\u001b[0m \u001b[32m━━━━━━━━━━━━━━━━━━━━\u001b[0m\u001b[37m\u001b[0m \u001b[1m11s\u001b[0m 446ms/step - accuracy: 0.9603 - loss: 0.0757 - val_accuracy: 0.8550 - val_loss: 0.4728\n"
     ]
    }
   ],
   "source": [
    "# Define a CNN model\n",
    "model = keras.Sequential([\n",
    "    layers.Conv2D(32, (3, 3), activation='relu', input_shape=(256, 256, 3)),\n",
    "    layers.MaxPooling2D((2, 2)),\n",
    "    layers.Conv2D(64, (3, 3), activation='relu'),\n",
    "    layers.MaxPooling2D((2, 2)),\n",
    "    layers.Conv2D(64, (3, 3), activation='relu'),\n",
    "    layers.Flatten(),\n",
    "    layers.Dense(64, activation='relu'),\n",
    "    layers.Dense(1, activation='sigmoid')\n",
    "])\n",
    "\n",
    "# Compile the model\n",
    "model.compile(optimizer='adam', loss='binary_crossentropy', metrics=['accuracy'])\n",
    "\n",
    "# Train the model\n",
    "batch_size = 32\n",
    "epochs = 10\n",
    "\n",
    "model_fit = model.fit(\n",
    "    X_train, y_train,\n",
    "    validation_data=(X_test, y_test),\n",
    "    epochs=epochs\n",
    ")"
   ]
  },
  {
   "cell_type": "code",
   "execution_count": 8,
   "metadata": {},
   "outputs": [
    {
     "name": "stdout",
     "output_type": "stream",
     "text": [
      "\u001b[1m7/7\u001b[0m \u001b[32m━━━━━━━━━━━━━━━━━━━━\u001b[0m\u001b[37m\u001b[0m \u001b[1m1s\u001b[0m 100ms/step - accuracy: 0.8524 - loss: 0.4621\n",
      "loss: 0.4728480279445648\n",
      "accuracy: 0.8550000190734863\n"
     ]
    }
   ],
   "source": [
    "# Evaluating on the Test dataset\n",
    "loss, accuracy = model.evaluate(X_test, y_test)\n",
    "print('loss:', loss)\n",
    "print('accuracy:', accuracy)"
   ]
  },
  {
   "cell_type": "code",
   "execution_count": 9,
   "metadata": {},
   "outputs": [
    {
     "data": {
      "image/png": "[encoded data removed]",
      "text/plain": [
       "<Figure size 800x800 with 2 Axes>"
      ]
     },
     "metadata": {},
     "output_type": "display_data"
    }
   ],
   "source": [
    "# Accuracy and Loss Plots\n",
    "acc = model_fit.history['accuracy']\n",
    "val_acc = model_fit.history['val_accuracy']\n",
    "\n",
    "loss = model_fit.history['loss']\n",
    "val_loss = model_fit.history['val_loss']\n",
    "\n",
    "epochs_range = range(len(acc))\n",
    "\n",
    "plt.figure(figsize=(8, 8))\n",
    "plt.subplot(1, 2, 1)\n",
    "plt.plot(epochs_range, acc, label='Training Accuracy')\n",
    "plt.plot(epochs_range, val_acc, label='Validation Accuracy')\n",
    "plt.legend(loc='lower right')\n",
    "plt.title('Training and Validation Accuracy')\n",
    "\n",
    "plt.subplot(1, 2, 2)\n",
    "plt.plot(epochs_range, loss, label='Training Loss')\n",
    "plt.plot(epochs_range, val_loss, label='Validation Loss')\n",
    "plt.legend(loc='upper right')\n",
    "plt.title('Training and Validation Loss')\n",
    "plt.show()\n"
   ]
  },
  {
   "cell_type": "code",
   "execution_count": 13,
   "metadata": {},
   "outputs": [
    {
     "name": "stdout",
     "output_type": "stream",
     "text": [
      "\u001b[1m7/7\u001b[0m \u001b[32m━━━━━━━━━━━━━━━━━━━━\u001b[0m\u001b[37m\u001b[0m \u001b[1m1s\u001b[0m 103ms/step\n"
     ]
    },
    {
     "data": {
      "image/png": "[encoded data removed]",
      "text/plain": [
       "<Figure size 800x600 with 2 Axes>"
      ]
     },
     "metadata": {},
     "output_type": "display_data"
    }
   ],
   "source": [
    "# Plot Confusion Matrix\n",
    "\n",
    "# Correctly predict using the model\n",
    "y_pred = model.predict(X_test)\n",
    "\n",
    "# Set the threshold for the split between 0 and 1\n",
    "threshold = 0.5\n",
    "\n",
    "# Apply the threshold to get predicted class labels\n",
    "y_pred_thresh = np.where(y_pred > threshold, 1, 0)\n",
    "\n",
    "cm = confusion_matrix(y_test, y_pred_thresh)\n",
    "\n",
    "# Plotting the confusion matrix\n",
    "plt.figure(figsize=(8,6))\n",
    "sns.heatmap(cm, annot=True, fmt='d', cmap='Blues', xticklabels=['Not Hotdog', 'Hotdog'], yticklabels=['Not Hotdog', 'Hotdog'])\n",
    "plt.xlabel('Predicted Label')\n",
    "plt.ylabel('True Label')\n",
    "plt.title('Confusion Matrix')\n",
    "plt.show()\n"
   ]
  },
  {
   "cell_type": "markdown",
   "metadata": {},
   "source": [
    "### Breakdown of the Metrics:\n",
    "- **Training Accuracy: 96.03%**\n",
    "  - This is quite high and suggests that your model has learned to classify the training data very well.\n",
    "- **Training Loss: 0.0757**\n",
    "  - The loss is quite low, which corroborates with the high training accuracy, indicating that your model's predictions are very close to the actual labels on the training data.\n",
    "- **Validation Accuracy: 85.50%**\n",
    "  - This accuracy is lower compared to the training accuracy. While it is still a reasonably good score, the noticeable drop from the training accuracy suggests that the model might not be performing as well on unseen data.\n",
    "- **Validation Loss: 0.4728**\n",
    "  - The validation loss is significantly higher than the training loss. This disparity is another indication that the model may be overfitting to the training data.\n",
    "\n",
    "### Analysis:\n",
    "1. **Overfitting**: The primary concern here is overfitting. The model is performing exceptionally well on the training data but not as well on the validation data. Overfitting occurs when a model learns the details and noise in the training data to an extent that it negatively impacts the performance on new data.\n",
    "\n",
    "2. **Generalization Gap**: The difference between training and validation accuracy (and loss) is known as the generalization gap. A large gap suggests that the model's ability to generalize to unseen data could be improved.\n",
    "\n",
    "### Potential Solutions:\n",
    "- **Data Augmentation**: This technique involves randomly transforming the existing training images in ways that are likely to occur in real-world scenarios. This can include rotations, translations, scaling, flipping, etc. It helps to increase the diversity of your training data, making your model less likely to memorize the training data and more likely to generalize better.\n",
    "- **Dropout**: Adding dropout layers to your network can help in reducing overfitting. Dropout layers randomly disable a fraction of neurons during training, which prevents them from co-adapting too much.\n",
    "- **Early Stopping**: This technique involves stopping the training process if the validation loss starts to increase (despite improvements in training loss), which is a hallmark of overfitting.\n",
    "- **Regularization Techniques**: Applying L1 or L2 regularization can also help in controlling overfitting by penalizing overly complex models.\n",
    "\n",
    "Implementing one or more of these strategies should help improve the model's performance on unseen data. "
   ]
  },
  {
   "cell_type": "markdown",
   "metadata": {
    "id": "UJDUoaEj1d6e"
   },
   "source": [
    "### **ANN Model Architecture**\n",
    "- Write a function that returns a sequential model with the following architecture:\n",
    " - First hidden layer with **64 nodes and the relu activation** and the **input shape = (1024, )**\n",
    " - Second hidden layer with **32 nodes and the relu activation**\n",
    " - Output layer with **activation as 'softmax' and number of nodes equal to the number of classes, i.e., 10**\n",
    " - Compile the model with the **loss equal to categorical_crossentropy, optimizer equal to Adam(learning_rate = 0.001), and metric equal to 'accuracy'**. Do not fit the model here, just return the compiled model.\n",
    "- Call the nn_model_1 function and store the model in a new variable. \n",
    "- Print the summary of the model.\n",
    "- Fit on the train data with a **validation split of 0.2, batch size = 128, verbose = 1, and epochs = 20**. Store the model building history to use later for visualization."
   ]
  },
  {
   "cell_type": "markdown",
   "metadata": {
    "id": "A48z6ucF0XIP"
   },
   "source": [
    "### **Build and train an ANN model as per the above mentioned architecture.**"
   ]
  },
  {
   "cell_type": "code",
   "execution_count": null,
   "metadata": {
    "id": "Cmi81Gr5sqW-"
   },
   "outputs": [],
   "source": []
  },
  {
   "cell_type": "markdown",
   "metadata": {
    "id": "MeF8XSWz0XIU"
   },
   "source": [
    "### **Plot the Training and Validation Accuracies and write down your Observations.**"
   ]
  },
  {
   "cell_type": "code",
   "execution_count": null,
   "metadata": {
    "id": "lt77zgGMP4yw"
   },
   "outputs": [],
   "source": []
  },
  {
   "cell_type": "markdown",
   "metadata": {
    "id": "pGBbQpLONX7k"
   },
   "source": [
    "**Observations:_______**"
   ]
  },
  {
   "cell_type": "markdown",
   "metadata": {
    "id": "z0qgLMBZm5-K"
   },
   "source": [
    "Let's build one more model with higher complexity and see if we can improve the performance of the model. \n",
    "\n",
    "First, we need to clear the previous model's history from the Keras backend. Also, let's fix the seed again after clearing the backend."
   ]
  },
  {
   "cell_type": "code",
   "execution_count": null,
   "metadata": {
    "id": "I_ih3wEU9wIk"
   },
   "outputs": [],
   "source": []
  },
  {
   "cell_type": "markdown",
   "metadata": {
    "id": "lT6o3TIKuCtk"
   },
   "source": [
    "### **Second Model Architecture**\n",
    "- Write a function that returns a sequential model with the following architecture:\n",
    " - First hidden layer with **256 nodes and the relu activation** and the **input shape = (1024, )**\n",
    " - Second hidden layer with **128 nodes and the relu activation**\n",
    " - Add the **Dropout layer with the rate equal to 0.2**\n",
    " - Third hidden layer with **64 nodes and the relu activation**\n",
    " - Fourth hidden layer with **64 nodes and the relu activation**\n",
    " - Fifth hidden layer with **32 nodes and the relu activation**\n",
    " - Add the **BatchNormalization layer**\n",
    " - Output layer with **activation as 'softmax' and number of nodes equal to the number of classes, i.e., 10**\n",
    " -Compile the model with the **loss equal to categorical_crossentropy, optimizer equal to Adam(learning_rate = 0.0005), and metric equal to 'accuracy'**. Do not fit the model here, just return the compiled model.\n",
    "- Call the nn_model_2 function and store the model in a new variable.\n",
    "- Print the summary of the model.\n",
    "- Fit on the train data with a **validation split of 0.2, batch size = 128, verbose = 1, and epochs = 30**. Store the model building history to use later for visualization."
   ]
  },
  {
   "cell_type": "markdown",
   "metadata": {
    "id": "f-ZjNBmH0XIV"
   },
   "source": [
    "### **Build and train the new ANN model as per the above mentioned architecture**"
   ]
  },
  {
   "cell_type": "code",
   "execution_count": null,
   "metadata": {
    "id": "EEPYLFIPnSDP"
   },
   "outputs": [],
   "source": []
  },
  {
   "cell_type": "markdown",
   "metadata": {
    "id": "ZJYsvjmw0XIX"
   },
   "source": [
    "### **Plot the Training and Validation Accuracies and write down your Observations.**"
   ]
  },
  {
   "cell_type": "code",
   "execution_count": null,
   "metadata": {
    "id": "01ig6BrF1KVy"
   },
   "outputs": [],
   "source": []
  },
  {
   "cell_type": "markdown",
   "metadata": {
    "id": "VPW1LlD61RDn"
   },
   "source": [
    "**Observations:_______**"
   ]
  },
  {
   "cell_type": "markdown",
   "metadata": {
    "id": "8kuXx9Bvu00f"
   },
   "source": [
    "## **Predictions on the test data**\n",
    "\n",
    "- Make predictions on the test set using the second model.\n",
    "- Print the obtained results using the classification report and the confusion matrix.\n",
    "- Final observations on the obtained results."
   ]
  },
  {
   "cell_type": "code",
   "execution_count": null,
   "metadata": {
    "id": "xbWMEtTj5Ad0"
   },
   "outputs": [],
   "source": []
  },
  {
   "cell_type": "markdown",
   "metadata": {
    "id": "i3li8Ib08yts"
   },
   "source": [
    "**Note:** Earlier, we noticed that each entry of the target variable is a one-hot encoded vector but to print the classification report and confusion matrix, we must convert each entry of y_test to a single label."
   ]
  },
  {
   "cell_type": "code",
   "execution_count": null,
   "metadata": {
    "id": "NByu7uAQ8x9P"
   },
   "outputs": [],
   "source": []
  },
  {
   "cell_type": "markdown",
   "metadata": {
    "id": "1_SIoopr0XIg"
   },
   "source": [
    "### **Print the classification report and the confusion matrix for the test predictions. Write your observations on the final results.**"
   ]
  },
  {
   "cell_type": "code",
   "execution_count": null,
   "metadata": {
    "id": "xRddeJ-3EHT1"
   },
   "outputs": [],
   "source": []
  },
  {
   "cell_type": "markdown",
   "metadata": {
    "id": "DjErl4GA2u9s"
   },
   "source": [
    "**Final Observations:__________**"
   ]
  },
  {
   "cell_type": "markdown",
   "metadata": {
    "id": "xkR4JioMsuIV"
   },
   "source": [
    "## **Using Convolutional Neural Networks**"
   ]
  },
  {
   "cell_type": "markdown",
   "metadata": {
    "id": "YN2YgkGL_6xQ"
   },
   "source": [
    "### **Load the dataset again and split the data into the train and the test dataset.**"
   ]
  },
  {
   "cell_type": "code",
   "execution_count": null,
   "metadata": {
    "id": "mqM204HbAjP2",
    "scrolled": true
   },
   "outputs": [],
   "source": []
  },
  {
   "cell_type": "markdown",
   "metadata": {
    "id": "6fPqF_xGAjQB"
   },
   "source": [
    "Check the number of images in the training and the testing dataset."
   ]
  },
  {
   "cell_type": "code",
   "execution_count": null,
   "metadata": {
    "id": "gTLJZWjPAjQB"
   },
   "outputs": [],
   "source": []
  },
  {
   "cell_type": "markdown",
   "metadata": {
    "id": "9qyMiP_rAjQB"
   },
   "source": [
    "**Observation:**\n"
   ]
  },
  {
   "cell_type": "markdown",
   "metadata": {
    "id": "OJndFfEVAjQG"
   },
   "source": [
    "## **Data preparation**\n",
    "\n",
    "- Print the shape and the array of pixels for the first image in the training dataset.\n",
    "- Reshape the train and the test dataset because we always have to give a 4D array as input to CNNs.\n",
    "- Normalize the train and the test dataset by dividing by 255.\n",
    "- Print the new shapes of the train and the test dataset.\n",
    "- One-hot encode the target variable."
   ]
  },
  {
   "cell_type": "code",
   "execution_count": null,
   "metadata": {
    "id": "W4uXqKz1AjQG"
   },
   "outputs": [],
   "source": []
  },
  {
   "cell_type": "markdown",
   "metadata": {
    "id": "at30iiX1__7F"
   },
   "source": [
    "Reshape the dataset to be able to pass them to CNNs. Remember that we always have to give a 4D array as input to CNNs"
   ]
  },
  {
   "cell_type": "code",
   "execution_count": null,
   "metadata": {
    "id": "D9YPwf9ysqWU"
   },
   "outputs": [],
   "source": []
  },
  {
   "cell_type": "markdown",
   "metadata": {
    "id": "ODYnoLfaAEGx"
   },
   "source": [
    "Normalize inputs from 0-255 to 0-1"
   ]
  },
  {
   "cell_type": "code",
   "execution_count": null,
   "metadata": {
    "id": "eOGLAn40AjQG"
   },
   "outputs": [],
   "source": []
  },
  {
   "cell_type": "markdown",
   "metadata": {
    "id": "cS9T4HqjAoyM"
   },
   "source": [
    "Print New shape of Training and Test"
   ]
  },
  {
   "cell_type": "code",
   "execution_count": null,
   "metadata": {
    "id": "5qf8S5NQAjQG"
   },
   "outputs": [],
   "source": []
  },
  {
   "cell_type": "markdown",
   "metadata": {
    "id": "10QaOV-xR7Jn"
   },
   "source": [
    "### **One-hot encode the labels in the target variable y_train and y_test.**"
   ]
  },
  {
   "cell_type": "code",
   "execution_count": null,
   "metadata": {
    "id": "3KHWFWKMAjQH"
   },
   "outputs": [],
   "source": []
  },
  {
   "cell_type": "markdown",
   "metadata": {
    "id": "H-8jYVQTAjQH"
   },
   "source": [
    "**Observation:**\n"
   ]
  },
  {
   "cell_type": "markdown",
   "metadata": {
    "id": "Vjx_LI4_AjQH"
   },
   "source": [
    "## **Model Building**\n",
    "\n",
    "Now that we have done data preprocessing, let's build a CNN model.\n",
    "Fix the seed for random number generators"
   ]
  },
  {
   "cell_type": "code",
   "execution_count": null,
   "metadata": {
    "id": "ZY5pyF4-KDNt"
   },
   "outputs": [],
   "source": []
  },
  {
   "cell_type": "markdown",
   "metadata": {
    "id": "1JUAczhzAjQH"
   },
   "source": [
    "### **Model Architecture**\n",
    "- **Write a function** that returns a sequential model with the following architecture:\n",
    " - First Convolutional layer with **16 filters and the kernel size of 3x3**. Use the **'same' padding** and provide the **input shape = (32, 32, 1)**\n",
    " - Add a **LeakyRelu layer** with the **slope equal to 0.1**\n",
    " - Second Convolutional layer with **32 filters and the kernel size of 3x3 with 'same' padding**\n",
    " - Another **LeakyRelu** with the **slope equal to 0.1**\n",
    " - A **max-pooling layer** with a **pool size of 2x2**\n",
    " - **Flatten** the output from the previous layer\n",
    " - Add a **dense layer with 32 nodes**\n",
    " - Add a **LeakyRelu layer with the slope equal to 0.1**\n",
    " - Add the final **output layer with nodes equal to the number of classes, i.e., 10** and **'softmax' as the activation function**\n",
    " - Compile the model with the **loss equal to categorical_crossentropy, optimizer equal to Adam(learning_rate = 0.001), and metric equal to 'accuracy'**. Do not fit the model here, just return the compiled model.\n",
    "- Call the function cnn_model_1 and store the output in a new variable.\n",
    "- Print the summary of the model.\n",
    "- Fit the model on the training data with a **validation split of 0.2, batch size = 32, verbose = 1, and epochs = 20**. Store the model building history to use later for visualization."
   ]
  },
  {
   "cell_type": "markdown",
   "metadata": {
    "id": "JWsAd45JKDNu"
   },
   "source": [
    "### **Build and train a CNN model as per the above mentioned architecture.**"
   ]
  },
  {
   "cell_type": "code",
   "execution_count": null,
   "metadata": {
    "id": "L1jOYANWAjQH"
   },
   "outputs": [],
   "source": []
  },
  {
   "cell_type": "markdown",
   "metadata": {
    "id": "JPzfIf9kKDNw"
   },
   "source": [
    "### **Plot the Training and Validation Accuracies and Write your observations.**"
   ]
  },
  {
   "cell_type": "code",
   "execution_count": null,
   "metadata": {
    "id": "07oUCr1kAjQH"
   },
   "outputs": [],
   "source": []
  },
  {
   "cell_type": "markdown",
   "metadata": {
    "id": "P6zTLyp9AjQH"
   },
   "source": [
    "**Observations:__________**"
   ]
  },
  {
   "cell_type": "markdown",
   "metadata": {
    "id": "Ukvtg2eMAjQH"
   },
   "source": [
    "Let's build another model and see if we can get a better model with generalized performance.\n",
    "\n",
    "First, we need to clear the previous model's history from the Keras backend. Also, let's fix the seed again after clearing the backend."
   ]
  },
  {
   "cell_type": "code",
   "execution_count": null,
   "metadata": {
    "id": "HbKi93HTolGW"
   },
   "outputs": [],
   "source": []
  },
  {
   "cell_type": "markdown",
   "metadata": {
    "id": "Ep19Jd8HAjQH"
   },
   "source": [
    "### **Second Model Architecture**\n",
    "\n",
    "- Write a function that returns a sequential model with the following architecture:\n",
    " - First Convolutional layer with **16 filters and the kernel size of 3x3**. Use the **'same' padding** and provide the **input shape = (32, 32, 1)**\n",
    " - Add a **LeakyRelu layer** with the **slope equal to 0.1**\n",
    " - Second Convolutional layer with **32 filters and the kernel size of 3x3 with 'same' padding**\n",
    " - Add **LeakyRelu** with the **slope equal to 0.1**\n",
    " - Add a **max-pooling layer** with a **pool size of 2x2**\n",
    " - Add a **BatchNormalization layer**\n",
    " - Third Convolutional layer with **32 filters and the kernel size of 3x3 with 'same' padding**\n",
    " - Add a **LeakyRelu layer with the slope equal to 0.1**\n",
    " - Fourth Convolutional layer **64 filters and the kernel size of 3x3 with 'same' padding** \n",
    " - Add a **LeakyRelu layer with the slope equal to 0.1**\n",
    " - Add a **max-pooling layer** with a **pool size of 2x2**\n",
    " - Add a **BatchNormalization layer**\n",
    " - **Flatten** the output from the previous layer\n",
    " - Add a **dense layer with 32 nodes**\n",
    " - Add a **LeakyRelu layer with the slope equal to 0.1**\n",
    " - Add a **dropout layer with the rate equal to 0.5**\n",
    " - Add the final **output layer with nodes equal to the number of classes, i.e., 10** and **'softmax' as the activation function**\n",
    " - Compile the model with the **categorical_crossentropy loss, adam optimizers (learning_rate = 0.001), and metric equal to 'accuracy'**. Do not fit the model here, just return the compiled model.\n",
    "- Call the function cnn_model_2 and store the model in a new variable.\n",
    "- Print the summary of the model.\n",
    "- Fit the model on the train data with a **validation split of 0.2, batch size = 128, verbose = 1, and epochs = 30**. Store the model building history to use later for visualization."
   ]
  },
  {
   "cell_type": "markdown",
   "metadata": {
    "id": "y5IBLS1eKDNy"
   },
   "source": [
    "### **Build and train the second CNN model as per the above mentioned architecture.**"
   ]
  },
  {
   "cell_type": "code",
   "execution_count": null,
   "metadata": {
    "id": "wk9sl2UEAjQH"
   },
   "outputs": [],
   "source": []
  },
  {
   "cell_type": "markdown",
   "metadata": {
    "id": "PyhUtMy3KDN1"
   },
   "source": [
    "### **Plot the Training and Validation accuracies and write your observations.**"
   ]
  },
  {
   "cell_type": "code",
   "execution_count": null,
   "metadata": {
    "id": "YVQu7uWiAjQH"
   },
   "outputs": [],
   "source": []
  },
  {
   "cell_type": "markdown",
   "metadata": {
    "id": "Qrrt0Ac3AjQH"
   },
   "source": [
    "**Observations:________**"
   ]
  },
  {
   "cell_type": "markdown",
   "metadata": {
    "id": "kja4SnOdAjQI"
   },
   "source": [
    "## **Predictions on the test data**\n",
    "\n",
    "- Make predictions on the test set using the second model.\n",
    "- Print the obtained results using the classification report and the confusion matrix.\n",
    "- Final observations on the obtained results."
   ]
  },
  {
   "cell_type": "markdown",
   "metadata": {
    "id": "eHCRwRbgKDN2"
   },
   "source": [
    "### **Make predictions on the test data using the second model.** "
   ]
  },
  {
   "cell_type": "code",
   "execution_count": null,
   "metadata": {
    "id": "f1d-VvaLAjQI"
   },
   "outputs": [],
   "source": []
  },
  {
   "cell_type": "markdown",
   "metadata": {
    "id": "DrV1tOG0AjQI"
   },
   "source": [
    "**Note:** Earlier, we noticed that each entry of the target variable is a one-hot encoded vector, but to print the classification report and confusion matrix, we must convert each entry of y_test to a single label."
   ]
  },
  {
   "cell_type": "code",
   "execution_count": null,
   "metadata": {
    "id": "dUSHU9W0AjQI"
   },
   "outputs": [],
   "source": []
  },
  {
   "cell_type": "markdown",
   "metadata": {
    "id": "aVCa-ysWKDN3"
   },
   "source": [
    "### **Write your final observations on the performance of the model on the test data.**"
   ]
  },
  {
   "cell_type": "code",
   "execution_count": null,
   "metadata": {
    "id": "sOMq2rCJAjQJ"
   },
   "outputs": [],
   "source": []
  },
  {
   "cell_type": "markdown",
   "metadata": {
    "id": "TNN9v713AjQJ"
   },
   "source": [
    "**Final Observations:_________**"
   ]
  }
 ],
 "metadata": {
  "accelerator": "TPU",
  "colab": {
   "provenance": []
  },
  "kernelspec": {
   "display_name": "Python 3 (ipykernel)",
   "language": "python",
   "name": "python3"
  },
  "language_info": {
   "codemirror_mode": {
    "name": "ipython",
    "version": 3
   },
   "file_extension": ".py",
   "mimetype": "text/x-python",
   "name": "python",
   "nbconvert_exporter": "python",
   "pygments_lexer": "ipython3",
   "version": "3.11.5"
  }
 },
 "nbformat": 4,
 "nbformat_minor": 1
}
